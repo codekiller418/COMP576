{
 "cells": [
  {
   "cell_type": "markdown",
   "id": "5082785c",
   "metadata": {},
   "source": [
    "## Importing Libraries"
   ]
  },
  {
   "cell_type": "code",
   "execution_count": 42,
   "id": "37d670a3",
   "metadata": {},
   "outputs": [],
   "source": [
    "import pandas as pd\n",
    "import matplotlib.pyplot as plt\n",
    "import seaborn as sns\n",
    "import re\n",
    "from nltk.tokenize import word_tokenize\n",
    "from nltk.corpus import stopwords\n",
    "import tensorflow as tf\n",
    "from tensorflow.keras.models import Sequential\n",
    "from tensorflow.keras.layers import Embedding, LSTM, Dense, SpatialDropout1D, Input, Activation, Dropout\n",
    "from keras.models import Model\n",
    "from tensorflow.keras.preprocessing.text import Tokenizer\n",
    "from tensorflow.keras.preprocessing.sequence import pad_sequences\n",
    "from keras.callbacks import EarlyStopping\n",
    "from sklearn.preprocessing import LabelEncoder\n",
    "from sklearn.model_selection import train_test_split"
   ]
  },
  {
   "cell_type": "code",
   "execution_count": 50,
   "id": "f31cefb3-f087-47df-ab59-0afb2866f2f6",
   "metadata": {},
   "outputs": [
    {
     "name": "stderr",
     "output_type": "stream",
     "text": [
      "[nltk_data] Downloading package stopwords to C:\\Users\\Anyang\n",
      "[nltk_data]     Wu\\AppData\\Roaming\\nltk_data...\n",
      "[nltk_data]   Package stopwords is already up-to-date!\n",
      "[nltk_data] Downloading package punkt to C:\\Users\\Anyang\n",
      "[nltk_data]     Wu\\AppData\\Roaming\\nltk_data...\n",
      "[nltk_data]   Unzipping tokenizers\\punkt.zip.\n"
     ]
    },
    {
     "data": {
      "text/plain": [
       "True"
      ]
     },
     "execution_count": 50,
     "metadata": {},
     "output_type": "execute_result"
    }
   ],
   "source": [
    "import nltk\n",
    "nltk.download('stopwords')\n",
    "nltk.download('punkt')"
   ]
  },
  {
   "cell_type": "markdown",
   "id": "f1ef3ea8",
   "metadata": {},
   "source": [
    "## Dataset "
   ]
  },
  {
   "cell_type": "code",
   "execution_count": 4,
   "id": "3679846b",
   "metadata": {},
   "outputs": [
    {
     "data": {
      "text/html": [
       "<div>\n",
       "<style scoped>\n",
       "    .dataframe tbody tr th:only-of-type {\n",
       "        vertical-align: middle;\n",
       "    }\n",
       "\n",
       "    .dataframe tbody tr th {\n",
       "        vertical-align: top;\n",
       "    }\n",
       "\n",
       "    .dataframe thead th {\n",
       "        text-align: right;\n",
       "    }\n",
       "</style>\n",
       "<table border=\"1\" class=\"dataframe\">\n",
       "  <thead>\n",
       "    <tr style=\"text-align: right;\">\n",
       "      <th></th>\n",
       "      <th>essay_id</th>\n",
       "      <th>full_text</th>\n",
       "      <th>score</th>\n",
       "    </tr>\n",
       "  </thead>\n",
       "  <tbody>\n",
       "    <tr>\n",
       "      <th>0</th>\n",
       "      <td>000d118</td>\n",
       "      <td>Many people have car where they live. The thin...</td>\n",
       "      <td>3</td>\n",
       "    </tr>\n",
       "    <tr>\n",
       "      <th>1</th>\n",
       "      <td>000fe60</td>\n",
       "      <td>I am a scientist at NASA that is discussing th...</td>\n",
       "      <td>3</td>\n",
       "    </tr>\n",
       "    <tr>\n",
       "      <th>2</th>\n",
       "      <td>001ab80</td>\n",
       "      <td>People always wish they had the same technolog...</td>\n",
       "      <td>4</td>\n",
       "    </tr>\n",
       "    <tr>\n",
       "      <th>3</th>\n",
       "      <td>001bdc0</td>\n",
       "      <td>We all heard about Venus, the planet without a...</td>\n",
       "      <td>4</td>\n",
       "    </tr>\n",
       "    <tr>\n",
       "      <th>4</th>\n",
       "      <td>002ba53</td>\n",
       "      <td>Dear, State Senator\\n\\nThis is a letter to arg...</td>\n",
       "      <td>3</td>\n",
       "    </tr>\n",
       "    <tr>\n",
       "      <th>...</th>\n",
       "      <td>...</td>\n",
       "      <td>...</td>\n",
       "      <td>...</td>\n",
       "    </tr>\n",
       "    <tr>\n",
       "      <th>17302</th>\n",
       "      <td>ffd378d</td>\n",
       "      <td>the story \" The Challenge of Exploing Venus \" ...</td>\n",
       "      <td>2</td>\n",
       "    </tr>\n",
       "    <tr>\n",
       "      <th>17303</th>\n",
       "      <td>ffddf1f</td>\n",
       "      <td>Technology has changed a lot of ways that we l...</td>\n",
       "      <td>4</td>\n",
       "    </tr>\n",
       "    <tr>\n",
       "      <th>17304</th>\n",
       "      <td>fff016d</td>\n",
       "      <td>If you don't like sitting around all day than ...</td>\n",
       "      <td>2</td>\n",
       "    </tr>\n",
       "    <tr>\n",
       "      <th>17305</th>\n",
       "      <td>fffb49b</td>\n",
       "      <td>In \"The Challenge of Exporing Venus,\" the auth...</td>\n",
       "      <td>1</td>\n",
       "    </tr>\n",
       "    <tr>\n",
       "      <th>17306</th>\n",
       "      <td>fffed3e</td>\n",
       "      <td>Venus is worthy place to study but dangerous. ...</td>\n",
       "      <td>2</td>\n",
       "    </tr>\n",
       "  </tbody>\n",
       "</table>\n",
       "<p>17307 rows × 3 columns</p>\n",
       "</div>"
      ],
      "text/plain": [
       "      essay_id                                          full_text  score\n",
       "0      000d118  Many people have car where they live. The thin...      3\n",
       "1      000fe60  I am a scientist at NASA that is discussing th...      3\n",
       "2      001ab80  People always wish they had the same technolog...      4\n",
       "3      001bdc0  We all heard about Venus, the planet without a...      4\n",
       "4      002ba53  Dear, State Senator\\n\\nThis is a letter to arg...      3\n",
       "...        ...                                                ...    ...\n",
       "17302  ffd378d  the story \" The Challenge of Exploing Venus \" ...      2\n",
       "17303  ffddf1f  Technology has changed a lot of ways that we l...      4\n",
       "17304  fff016d  If you don't like sitting around all day than ...      2\n",
       "17305  fffb49b  In \"The Challenge of Exporing Venus,\" the auth...      1\n",
       "17306  fffed3e  Venus is worthy place to study but dangerous. ...      2\n",
       "\n",
       "[17307 rows x 3 columns]"
      ]
     },
     "execution_count": 4,
     "metadata": {},
     "output_type": "execute_result"
    }
   ],
   "source": [
    "df = pd.read_csv('../Dataset/train.csv')\n",
    "df"
   ]
  },
  {
   "cell_type": "markdown",
   "id": "d8141cca",
   "metadata": {},
   "source": [
    "### Scoring Criteria\n",
    "\n",
    "The score indicates the quality of student-written argumentative essays, rated based on perspective, critical thinking, evidence, organization, language, and grammar/mechanics.\n",
    "\n",
    "| Score | Description |\n",
    "|-------|-------------|\n",
    "| 6     | Clear mastery, few errors, outstanding critical thinking, appropriate evidence, well-organized, skilled language use. |\n",
    "| 5     | Reasonable mastery, some errors, strong critical thinking, generally appropriate evidence, well-organized, good language use. |\n",
    "| 4     | Adequate mastery, occasional lapses, competent critical thinking, adequate evidence, generally organized, fair language use. |\n",
    "| 3     | Developing mastery, weaknesses, limited critical thinking, inconsistent evidence, some organization, fair language use. |\n",
    "| 2     | Little mastery, serious flaws, weak critical thinking, insufficient evidence, poor organization, frequent errors. |\n",
    "| 1     | Very little mastery, severe flaws, no viable point of view, disorganized, pervasive errors. |"
   ]
  },
  {
   "cell_type": "markdown",
   "id": "b7151501",
   "metadata": {},
   "source": [
    "## EDA (Exploratory Data Analysis)"
   ]
  },
  {
   "cell_type": "code",
   "execution_count": 8,
   "id": "98ed7dea",
   "metadata": {},
   "outputs": [
    {
     "name": "stdout",
     "output_type": "stream",
     "text": [
      "<class 'pandas.core.frame.DataFrame'>\n",
      "RangeIndex: 17307 entries, 0 to 17306\n",
      "Data columns (total 3 columns):\n",
      " #   Column     Non-Null Count  Dtype \n",
      "---  ------     --------------  ----- \n",
      " 0   essay_id   17307 non-null  object\n",
      " 1   full_text  17307 non-null  object\n",
      " 2   score      17307 non-null  int64 \n",
      "dtypes: int64(1), object(2)\n",
      "memory usage: 405.8+ KB\n"
     ]
    }
   ],
   "source": [
    "# displaying basic information\n",
    "\n",
    "df.info()"
   ]
  },
  {
   "cell_type": "code",
   "execution_count": 10,
   "id": "e6c26e4d",
   "metadata": {},
   "outputs": [
    {
     "data": {
      "text/html": [
       "<div>\n",
       "<style scoped>\n",
       "    .dataframe tbody tr th:only-of-type {\n",
       "        vertical-align: middle;\n",
       "    }\n",
       "\n",
       "    .dataframe tbody tr th {\n",
       "        vertical-align: top;\n",
       "    }\n",
       "\n",
       "    .dataframe thead th {\n",
       "        text-align: right;\n",
       "    }\n",
       "</style>\n",
       "<table border=\"1\" class=\"dataframe\">\n",
       "  <thead>\n",
       "    <tr style=\"text-align: right;\">\n",
       "      <th></th>\n",
       "      <th>score</th>\n",
       "    </tr>\n",
       "  </thead>\n",
       "  <tbody>\n",
       "    <tr>\n",
       "      <th>count</th>\n",
       "      <td>17307.000000</td>\n",
       "    </tr>\n",
       "    <tr>\n",
       "      <th>mean</th>\n",
       "      <td>2.948402</td>\n",
       "    </tr>\n",
       "    <tr>\n",
       "      <th>std</th>\n",
       "      <td>1.044899</td>\n",
       "    </tr>\n",
       "    <tr>\n",
       "      <th>min</th>\n",
       "      <td>1.000000</td>\n",
       "    </tr>\n",
       "    <tr>\n",
       "      <th>25%</th>\n",
       "      <td>2.000000</td>\n",
       "    </tr>\n",
       "    <tr>\n",
       "      <th>50%</th>\n",
       "      <td>3.000000</td>\n",
       "    </tr>\n",
       "    <tr>\n",
       "      <th>75%</th>\n",
       "      <td>4.000000</td>\n",
       "    </tr>\n",
       "    <tr>\n",
       "      <th>max</th>\n",
       "      <td>6.000000</td>\n",
       "    </tr>\n",
       "  </tbody>\n",
       "</table>\n",
       "</div>"
      ],
      "text/plain": [
       "              score\n",
       "count  17307.000000\n",
       "mean       2.948402\n",
       "std        1.044899\n",
       "min        1.000000\n",
       "25%        2.000000\n",
       "50%        3.000000\n",
       "75%        4.000000\n",
       "max        6.000000"
      ]
     },
     "execution_count": 10,
     "metadata": {},
     "output_type": "execute_result"
    }
   ],
   "source": [
    "# displaying basic information\n",
    "\n",
    "df.describe()"
   ]
  },
  {
   "cell_type": "code",
   "execution_count": 12,
   "id": "f3361e49",
   "metadata": {},
   "outputs": [
    {
     "data": {
      "text/plain": [
       "essay_id     0\n",
       "full_text    0\n",
       "score        0\n",
       "dtype: int64"
      ]
     },
     "execution_count": 12,
     "metadata": {},
     "output_type": "execute_result"
    }
   ],
   "source": [
    "# checking for missing values\n",
    "\n",
    "df.isnull().sum()"
   ]
  },
  {
   "cell_type": "code",
   "execution_count": 14,
   "id": "b15cb937",
   "metadata": {},
   "outputs": [
    {
     "data": {
      "image/png": "[encoded data removed]",
      "text/plain": [
       "<Figure size 640x480 with 1 Axes>"
      ]
     },
     "metadata": {},
     "output_type": "display_data"
    }
   ],
   "source": [
    "# Analyze the distribution of essay scores\n",
    "\n",
    "sns.histplot(df['score'], kde=True)\n",
    "plt.title('Distribution of Essay Scores')\n",
    "plt.xlabel('Score')\n",
    "plt.ylabel('Frequency')\n",
    "plt.savefig('../Images/Score Distribution.png')\n",
    "plt.show()"
   ]
  },
  {
   "cell_type": "code",
   "execution_count": 15,
   "id": "1667329d",
   "metadata": {},
   "outputs": [
    {
     "data": {
      "image/png": "[encoded data removed]",
      "text/plain": [
       "<Figure size 1000x600 with 1 Axes>"
      ]
     },
     "metadata": {},
     "output_type": "display_data"
    }
   ],
   "source": [
    "# Calculate the length of each essay\n",
    "df['essay_length'] = df['full_text'].apply(lambda x: len(x.split()))\n",
    "\n",
    "# Plot the distribution of essay lengths\n",
    "plt.figure(figsize=(10, 6))\n",
    "sns.histplot(df['essay_length'], kde=True, bins=30)\n",
    "plt.title('Distribution of Essay Lengths')\n",
    "plt.xlabel('Essay Length (Number of Words)')\n",
    "plt.ylabel('Frequency')\n",
    "plt.savefig('../Images/Length Distribution.png')\n",
    "plt.show()"
   ]
  },
  {
   "cell_type": "markdown",
   "id": "d8371568",
   "metadata": {},
   "source": [
    "## Data Preprocessing"
   ]
  },
  {
   "cell_type": "code",
   "execution_count": 44,
   "id": "909716b4",
   "metadata": {
    "scrolled": true
   },
   "outputs": [],
   "source": [
    "stop_words = set(stopwords.words('english'))\n",
    "def remove_stop_words(essay):\n",
    "    word_tokens = word_tokenize(essay) \n",
    "    filtered_sentence = [] \n",
    "    for w in word_tokens: \n",
    "        if w not in stop_words: \n",
    "            filtered_sentence.append(w)\n",
    "    return ' '.join(filtered_sentence)"
   ]
  },
  {
   "cell_type": "code",
   "execution_count": 52,
   "id": "90b8fd62",
   "metadata": {},
   "outputs": [],
   "source": [
    "def preprocess_text(essay):\n",
    "    essay = re.sub(r'\\d+', '', essay)\n",
    "    essay = re.sub(r'[^\\w\\s]', '', essay)\n",
    "    tokens = word_tokenize(essay.lower())\n",
    "    return tokens"
   ]
  },
  {
   "cell_type": "code",
   "execution_count": 77,
   "id": "6dc56009",
   "metadata": {},
   "outputs": [],
   "source": [
    "df['clean_essay'] = df['full_text'].apply(lambda x:remove_stop_words(x))"
   ]
  },
  {
   "cell_type": "code",
   "execution_count": 78,
   "id": "d0a30bf5",
   "metadata": {},
   "outputs": [],
   "source": [
    "df['cleaned_essay'] = df['clean_essay'].apply(preprocess_text)"
   ]
  },
  {
   "cell_type": "code",
   "execution_count": 79,
   "id": "85cf59f1",
   "metadata": {},
   "outputs": [
    {
     "data": {
      "text/plain": [
       "0    [many, people, car, live, the, thing, nt, know...\n",
       "1    [i, scientist, nasa, discussing, face, mars, i...\n",
       "2    [people, always, wish, technology, seen, movie...\n",
       "3    [we, heard, venus, planet, without, almost, ox...\n",
       "4    [dear, state, senator, this, letter, argue, fa...\n",
       "Name: cleaned_essay, dtype: object"
      ]
     },
     "execution_count": 79,
     "metadata": {},
     "output_type": "execute_result"
    }
   ],
   "source": [
    "df['cleaned_essay'].head()"
   ]
  },
  {
   "cell_type": "markdown",
   "id": "012f1029",
   "metadata": {},
   "source": [
    "## LSTM Model"
   ]
  },
  {
   "cell_type": "code",
   "execution_count": 81,
   "id": "00be3baf",
   "metadata": {},
   "outputs": [],
   "source": [
    "# Tokenize the text\n",
    "\n",
    "tokenizer = Tokenizer(num_words=5000)\n",
    "tokenizer.fit_on_texts(df['cleaned_essay'])\n",
    "X = tokenizer.texts_to_sequences(df['cleaned_essay'])\n",
    "X = pad_sequences(X, maxlen=200)\n",
    "Y = df['score']\n",
    "\n",
    "# Train-test split\n",
    "X_train, X_test, y_train, y_test = train_test_split(X, Y, test_size=0.2, random_state=42)"
   ]
  },
  {
   "cell_type": "code",
   "execution_count": 82,
   "id": "cd38c033",
   "metadata": {},
   "outputs": [],
   "source": [
    "def model():\n",
    "    model = Sequential()\n",
    "    model.add(Embedding(input_dim=5000, output_dim=128, input_length=200))\n",
    "    model.add(SpatialDropout1D(0.2))\n",
    "    model.add(LSTM(128, dropout=0.2, recurrent_dropout=0.2, return_sequences=True))\n",
    "    model.add(LSTM(64, dropout=0.2, recurrent_dropout=0.2))\n",
    "    model.add(Dense(32, activation='relu'))\n",
    "    model.add(Dropout(0.2))\n",
    "    model.add(Dense(1, activation='linear'))\n",
    "    return model"
   ]
  },
  {
   "cell_type": "code",
   "execution_count": 83,
   "id": "46df37f5",
   "metadata": {},
   "outputs": [
    {
     "name": "stdout",
     "output_type": "stream",
     "text": [
      "Model: \"sequential\"\n",
      "_________________________________________________________________\n",
      " Layer (type)                Output Shape              Param #   \n",
      "=================================================================\n",
      " embedding (Embedding)       (None, 200, 128)          640000    \n",
      "                                                                 \n",
      " spatial_dropout1d (SpatialD  (None, 200, 128)         0         \n",
      " ropout1D)                                                       \n",
      "                                                                 \n",
      " lstm (LSTM)                 (None, 200, 128)          131584    \n",
      "                                                                 \n",
      " lstm_1 (LSTM)               (None, 64)                49408     \n",
      "                                                                 \n",
      " dense (Dense)               (None, 32)                2080      \n",
      "                                                                 \n",
      " dropout (Dropout)           (None, 32)                0         \n",
      "                                                                 \n",
      " dense_1 (Dense)             (None, 1)                 33        \n",
      "                                                                 \n",
      "=================================================================\n",
      "Total params: 823,105\n",
      "Trainable params: 823,105\n",
      "Non-trainable params: 0\n",
      "_________________________________________________________________\n"
     ]
    }
   ],
   "source": [
    "model = model()\n",
    "model.summary()"
   ]
  },
  {
   "cell_type": "code",
   "execution_count": 84,
   "id": "ac8b3e00",
   "metadata": {},
   "outputs": [],
   "source": [
    "model.compile(loss='mean_squared_error', optimizer='adam', metrics=['mean_squared_error'])"
   ]
  },
  {
   "cell_type": "code",
   "execution_count": 107,
   "id": "cc75f653",
   "metadata": {
    "scrolled": true
   },
   "outputs": [
    {
     "name": "stdout",
     "output_type": "stream",
     "text": [
      "Epoch 1/15\n",
      "174/174 [==============================] - 128s 737ms/step - loss: 0.7801 - mean_squared_error: 0.7801 - val_loss: 0.5528 - val_mean_squared_error: 0.5528\n",
      "Epoch 2/15\n",
      "174/174 [==============================] - 127s 733ms/step - loss: 0.6070 - mean_squared_error: 0.6070 - val_loss: 0.4932 - val_mean_squared_error: 0.4932\n",
      "Epoch 3/15\n",
      "174/174 [==============================] - 130s 747ms/step - loss: 0.5650 - mean_squared_error: 0.5650 - val_loss: 0.5265 - val_mean_squared_error: 0.5265\n",
      "Epoch 4/15\n",
      "174/174 [==============================] - 128s 734ms/step - loss: 0.5197 - mean_squared_error: 0.5197 - val_loss: 0.4787 - val_mean_squared_error: 0.4787\n",
      "Epoch 5/15\n",
      "174/174 [==============================] - 130s 747ms/step - loss: 0.4924 - mean_squared_error: 0.4924 - val_loss: 0.5185 - val_mean_squared_error: 0.5185\n",
      "Epoch 6/15\n",
      "174/174 [==============================] - 129s 742ms/step - loss: 0.4673 - mean_squared_error: 0.4673 - val_loss: 0.5786 - val_mean_squared_error: 0.5786\n",
      "Epoch 7/15\n",
      "174/174 [==============================] - 130s 747ms/step - loss: 0.4392 - mean_squared_error: 0.4392 - val_loss: 0.4929 - val_mean_squared_error: 0.4929\n",
      "Epoch 8/15\n",
      "174/174 [==============================] - 129s 743ms/step - loss: 0.4035 - mean_squared_error: 0.4035 - val_loss: 0.5159 - val_mean_squared_error: 0.5159\n",
      "Epoch 9/15\n",
      "174/174 [==============================] - 130s 749ms/step - loss: 0.3825 - mean_squared_error: 0.3825 - val_loss: 0.5492 - val_mean_squared_error: 0.5492\n",
      "Epoch 10/15\n",
      "174/174 [==============================] - 128s 737ms/step - loss: 0.3567 - mean_squared_error: 0.3567 - val_loss: 0.5253 - val_mean_squared_error: 0.5253\n",
      "Epoch 11/15\n",
      "174/174 [==============================] - 132s 759ms/step - loss: 0.3334 - mean_squared_error: 0.3334 - val_loss: 0.5333 - val_mean_squared_error: 0.5333\n",
      "Epoch 12/15\n",
      "174/174 [==============================] - 136s 780ms/step - loss: 0.3194 - mean_squared_error: 0.3194 - val_loss: 0.5559 - val_mean_squared_error: 0.5559\n",
      "Epoch 13/15\n",
      "174/174 [==============================] - 138s 793ms/step - loss: 0.3097 - mean_squared_error: 0.3097 - val_loss: 0.5579 - val_mean_squared_error: 0.5579\n",
      "Epoch 14/15\n",
      "174/174 [==============================] - 136s 782ms/step - loss: 0.2862 - mean_squared_error: 0.2862 - val_loss: 0.5714 - val_mean_squared_error: 0.5714\n",
      "Epoch 15/15\n",
      "174/174 [==============================] - 146s 837ms/step - loss: 0.2929 - mean_squared_error: 0.2929 - val_loss: 0.5830 - val_mean_squared_error: 0.5830\n"
     ]
    }
   ],
   "source": [
    "history = model.fit(X_train ,y_train,batch_size=64, validation_split=0.2, epochs=15)"
   ]
  },
  {
   "cell_type": "code",
   "execution_count": 108,
   "id": "29e76c28",
   "metadata": {},
   "outputs": [
    {
     "name": "stdout",
     "output_type": "stream",
     "text": [
      "Quadratic Weighted Kappa: 0.6701574116466059\n"
     ]
    }
   ],
   "source": [
    "# Evaluation with Quadratic Weighted Kappa\n",
    "\n",
    "from sklearn.metrics import cohen_kappa_score\n",
    "import numpy as np\n",
    "\n",
    "# Predict using the trained model\n",
    "y_pred = model.predict(X_test).flatten()\n",
    "y_pred = np.rint(y_pred)  # Round predictions to nearest integer\n",
    "\n",
    "# Calculate Quadratic Weighted Kappa\n",
    "kappa_score = cohen_kappa_score(y_test, y_pred, weights='quadratic')\n",
    "print(f'Quadratic Weighted Kappa: {kappa_score}')"
   ]
  },
  {
   "cell_type": "code",
   "execution_count": 109,
   "id": "2434b0be",
   "metadata": {},
   "outputs": [
    {
     "data": {
      "image/png": "[encoded data removed]",
      "text/plain": [
       "<Figure size 1200x600 with 1 Axes>"
      ]
     },
     "metadata": {},
     "output_type": "display_data"
    }
   ],
   "source": [
    "# Visualization of Training History\n",
    "\n",
    "plt.figure(figsize=(12, 6))\n",
    "plt.plot(history.history['loss'], label='MSE')\n",
    "plt.plot(history.history['val_loss'], label='Val MSE')\n",
    "plt.title('Model Loss')\n",
    "plt.xlabel('Epoch')\n",
    "plt.ylabel('Loass')\n",
    "plt.legend()\n",
    "plt.savefig('../Images/LSTM Loss.png')\n",
    "plt.show()"
   ]
  },
  {
   "cell_type": "markdown",
   "id": "3d7cb731",
   "metadata": {},
   "source": [
    "## GRU Model"
   ]
  },
  {
   "cell_type": "code",
   "execution_count": 111,
   "id": "33132a2b",
   "metadata": {},
   "outputs": [],
   "source": [
    "import tensorflow as tf\n",
    "from tensorflow.keras.models import Sequential\n",
    "from tensorflow.keras.layers import Embedding, GRU, Dense, Dropout, SpatialDropout1D\n",
    "\n",
    "# Define the GRU model\n",
    "def model():\n",
    "    model_gru = Sequential()\n",
    "    model_gru.add(Embedding(input_dim=5000, output_dim=128, input_length=200))\n",
    "    model_gru.add(SpatialDropout1D(0.2))\n",
    "    model_gru.add(GRU(128, dropout=0.2, recurrent_dropout=0.2, return_sequences=True))\n",
    "    model_gru.add(GRU(64, dropout=0.2, recurrent_dropout=0.2))\n",
    "    model_gru.add(Dense(32, activation='relu'))\n",
    "    model_gru.add(Dropout(0.2))\n",
    "    model_gru.add(Dense(1, activation='linear'))\n",
    "    return model_gru"
   ]
  },
  {
   "cell_type": "code",
   "execution_count": 112,
   "id": "49e888af",
   "metadata": {
    "scrolled": true
   },
   "outputs": [
    {
     "name": "stdout",
     "output_type": "stream",
     "text": [
      "Model: \"sequential_1\"\n",
      "_________________________________________________________________\n",
      " Layer (type)                Output Shape              Param #   \n",
      "=================================================================\n",
      " embedding_1 (Embedding)     (None, 200, 128)          640000    \n",
      "                                                                 \n",
      " spatial_dropout1d_1 (Spatia  (None, 200, 128)         0         \n",
      " lDropout1D)                                                     \n",
      "                                                                 \n",
      " gru (GRU)                   (None, 200, 128)          99072     \n",
      "                                                                 \n",
      " gru_1 (GRU)                 (None, 64)                37248     \n",
      "                                                                 \n",
      " dense_2 (Dense)             (None, 32)                2080      \n",
      "                                                                 \n",
      " dropout_1 (Dropout)         (None, 32)                0         \n",
      "                                                                 \n",
      " dense_3 (Dense)             (None, 1)                 33        \n",
      "                                                                 \n",
      "=================================================================\n",
      "Total params: 778,433\n",
      "Trainable params: 778,433\n",
      "Non-trainable params: 0\n",
      "_________________________________________________________________\n",
      "Epoch 1/20\n",
      "217/217 [==============================] - 139s 634ms/step - loss: 1.5564 - mean_squared_error: 1.5564 - val_loss: 0.7192 - val_mean_squared_error: 0.7192\n",
      "Epoch 2/20\n",
      "217/217 [==============================] - 144s 663ms/step - loss: 0.7007 - mean_squared_error: 0.7007 - val_loss: 0.4482 - val_mean_squared_error: 0.4482\n",
      "Epoch 3/20\n",
      "217/217 [==============================] - 147s 678ms/step - loss: 0.5383 - mean_squared_error: 0.5383 - val_loss: 0.4254 - val_mean_squared_error: 0.4254\n",
      "Epoch 4/20\n",
      "217/217 [==============================] - 156s 720ms/step - loss: 0.4910 - mean_squared_error: 0.4910 - val_loss: 0.4468 - val_mean_squared_error: 0.4468\n",
      "Epoch 5/20\n",
      "217/217 [==============================] - 157s 725ms/step - loss: 0.4532 - mean_squared_error: 0.4532 - val_loss: 0.4494 - val_mean_squared_error: 0.4494\n",
      "Epoch 6/20\n",
      "217/217 [==============================] - 154s 709ms/step - loss: 0.4249 - mean_squared_error: 0.4249 - val_loss: 0.4481 - val_mean_squared_error: 0.4481\n",
      "Epoch 7/20\n",
      "217/217 [==============================] - 161s 740ms/step - loss: 0.3951 - mean_squared_error: 0.3951 - val_loss: 0.4682 - val_mean_squared_error: 0.4682\n",
      "Epoch 8/20\n",
      "217/217 [==============================] - 156s 717ms/step - loss: 0.3644 - mean_squared_error: 0.3644 - val_loss: 0.4838 - val_mean_squared_error: 0.4838\n",
      "Epoch 9/20\n",
      "217/217 [==============================] - 158s 727ms/step - loss: 0.3429 - mean_squared_error: 0.3429 - val_loss: 0.4901 - val_mean_squared_error: 0.4901\n",
      "Epoch 10/20\n",
      "217/217 [==============================] - 149s 688ms/step - loss: 0.3272 - mean_squared_error: 0.3272 - val_loss: 0.5169 - val_mean_squared_error: 0.5169\n",
      "Epoch 11/20\n",
      "217/217 [==============================] - 145s 669ms/step - loss: 0.3114 - mean_squared_error: 0.3114 - val_loss: 0.5446 - val_mean_squared_error: 0.5446\n",
      "Epoch 12/20\n",
      "217/217 [==============================] - 148s 680ms/step - loss: 0.2944 - mean_squared_error: 0.2944 - val_loss: 0.5148 - val_mean_squared_error: 0.5148\n",
      "Epoch 13/20\n",
      "217/217 [==============================] - 145s 666ms/step - loss: 0.2770 - mean_squared_error: 0.2770 - val_loss: 0.5355 - val_mean_squared_error: 0.5355\n",
      "Epoch 14/20\n",
      "217/217 [==============================] - 146s 672ms/step - loss: 0.2647 - mean_squared_error: 0.2647 - val_loss: 0.5719 - val_mean_squared_error: 0.5719\n",
      "Epoch 15/20\n",
      "217/217 [==============================] - 146s 675ms/step - loss: 0.2510 - mean_squared_error: 0.2510 - val_loss: 0.5801 - val_mean_squared_error: 0.5801\n",
      "Epoch 16/20\n",
      "217/217 [==============================] - 149s 686ms/step - loss: 0.2379 - mean_squared_error: 0.2379 - val_loss: 0.5514 - val_mean_squared_error: 0.5514\n",
      "Epoch 17/20\n",
      "217/217 [==============================] - 149s 685ms/step - loss: 0.2269 - mean_squared_error: 0.2269 - val_loss: 0.5845 - val_mean_squared_error: 0.5845\n",
      "Epoch 18/20\n",
      "217/217 [==============================] - 147s 676ms/step - loss: 0.2122 - mean_squared_error: 0.2122 - val_loss: 0.5848 - val_mean_squared_error: 0.5848\n",
      "Epoch 19/20\n",
      "217/217 [==============================] - 148s 680ms/step - loss: 0.2033 - mean_squared_error: 0.2033 - val_loss: 0.5524 - val_mean_squared_error: 0.5524\n",
      "Epoch 20/20\n",
      "217/217 [==============================] - 149s 687ms/step - loss: 0.1950 - mean_squared_error: 0.1950 - val_loss: 0.5883 - val_mean_squared_error: 0.5883\n"
     ]
    }
   ],
   "source": [
    "model_gru = model()\n",
    "model_gru.compile(loss='mean_squared_error', optimizer='adam', metrics=['mean_squared_error'])\n",
    "model_gru.summary()\n",
    "\n",
    "# Train the model\n",
    "history_gru = model_gru.fit(X, Y, epochs=20, batch_size=64, validation_split=0.2)"
   ]
  },
  {
   "cell_type": "code",
   "execution_count": 113,
   "id": "29ca1df4",
   "metadata": {},
   "outputs": [
    {
     "name": "stdout",
     "output_type": "stream",
     "text": [
      "Quadratic Weighted Kappa: 0.9016405397878643\n"
     ]
    }
   ],
   "source": [
    "# Evaluation with Quadratic Weighted Kappa\n",
    "\n",
    "from sklearn.metrics import cohen_kappa_score\n",
    "import numpy as np\n",
    "\n",
    "# Predict using the trained model\n",
    "y_pred_gru = model_gru.predict(X_test).flatten()\n",
    "y_pred_gru = np.rint(y_pred_gru)  # Round predictions to nearest integer\n",
    "\n",
    "# Calculate Quadratic Weighted Kappa\n",
    "kappa_score_gru = cohen_kappa_score(y_test, y_pred_gru, weights='quadratic')\n",
    "print(f'Quadratic Weighted Kappa: {kappa_score_gru}')"
   ]
  },
  {
   "cell_type": "code",
   "execution_count": 114,
   "id": "69ec2554",
   "metadata": {},
   "outputs": [
    {
     "data": {
      "image/png": "[encoded data removed]",
      "text/plain": [
       "<Figure size 1200x600 with 1 Axes>"
      ]
     },
     "metadata": {},
     "output_type": "display_data"
    }
   ],
   "source": [
    "# Visualization of Training History\n",
    "\n",
    "plt.figure(figsize=(12, 6))\n",
    "plt.plot(history_gru.history['loss'], label='MSE')\n",
    "plt.plot(history_gru.history['val_loss'], label='Val MSE')\n",
    "plt.title('Model Loss')\n",
    "plt.xlabel('Epoch')\n",
    "plt.ylabel('Loss')\n",
    "plt.legend()\n",
    "plt.savefig('../Images/GRU Loss.png')\n",
    "plt.show()"
   ]
  },
  {
   "cell_type": "markdown",
   "id": "27b627d1",
   "metadata": {},
   "source": [
    "## CNN for Text"
   ]
  },
  {
   "cell_type": "code",
   "execution_count": 116,
   "id": "faa2bd86",
   "metadata": {},
   "outputs": [],
   "source": [
    "from tensorflow.keras.models import Sequential\n",
    "from tensorflow.keras.layers import Embedding, Conv1D, MaxPooling1D, GlobalMaxPooling1D, Dense, Dropout, SpatialDropout1D\n",
    "\n",
    "# Define the CNN model\n",
    "def model():\n",
    "    model_cnn = Sequential()\n",
    "    model_cnn.add(Embedding(input_dim=5000, output_dim=128, input_length=200))\n",
    "    model_cnn.add(Conv1D(128, 5, activation='relu'))\n",
    "    model_cnn.add(MaxPooling1D(5))\n",
    "    model_cnn.add(Conv1D(64, 5, activation='relu'))\n",
    "    model_cnn.add(GlobalMaxPooling1D())\n",
    "    model_cnn.add(Dense(32, activation='relu'))\n",
    "    model_cnn.add(Dropout(0.2))\n",
    "    model_cnn.add(Dense(1, activation='linear'))\n",
    "    return model_cnn"
   ]
  },
  {
   "cell_type": "code",
   "execution_count": null,
   "id": "ee981d80",
   "metadata": {
    "scrolled": true
   },
   "outputs": [
    {
     "name": "stdout",
     "output_type": "stream",
     "text": [
      "Model: \"sequential_2\"\n",
      "_________________________________________________________________\n",
      " Layer (type)                Output Shape              Param #   \n",
      "=================================================================\n",
      " embedding_2 (Embedding)     (None, 200, 128)          640000    \n",
      "                                                                 \n",
      " conv1d (Conv1D)             (None, 196, 128)          82048     \n",
      "                                                                 \n",
      " max_pooling1d (MaxPooling1D  (None, 39, 128)          0         \n",
      " )                                                               \n",
      "                                                                 \n",
      " conv1d_1 (Conv1D)           (None, 35, 64)            41024     \n",
      "                                                                 \n",
      " global_max_pooling1d (Globa  (None, 64)               0         \n",
      " lMaxPooling1D)                                                  \n",
      "                                                                 \n",
      " dense_4 (Dense)             (None, 32)                2080      \n",
      "                                                                 \n",
      " dropout_2 (Dropout)         (None, 32)                0         \n",
      "                                                                 \n",
      " dense_5 (Dense)             (None, 1)                 33        \n",
      "                                                                 \n",
      "=================================================================\n",
      "Total params: 765,185\n",
      "Trainable params: 765,185\n",
      "Non-trainable params: 0\n",
      "_________________________________________________________________\n",
      "Epoch 1/20\n",
      "217/217 [==============================] - 10s 44ms/step - loss: 1.3861 - mean_squared_error: 1.3861 - val_loss: 0.6733 - val_mean_squared_error: 0.6733\n",
      "Epoch 2/20\n",
      "217/217 [==============================] - 10s 45ms/step - loss: 0.6841 - mean_squared_error: 0.6841 - val_loss: 0.5116 - val_mean_squared_error: 0.5116\n",
      "Epoch 3/20\n",
      "217/217 [==============================] - 10s 45ms/step - loss: 0.5272 - mean_squared_error: 0.5272 - val_loss: 0.4823 - val_mean_squared_error: 0.4823\n",
      "Epoch 4/20\n",
      "217/217 [==============================] - 10s 45ms/step - loss: 0.4647 - mean_squared_error: 0.4647 - val_loss: 0.4954 - val_mean_squared_error: 0.4954\n",
      "Epoch 5/20\n",
      "217/217 [==============================] - 9s 42ms/step - loss: 0.3964 - mean_squared_error: 0.3964 - val_loss: 0.5275 - val_mean_squared_error: 0.5275\n",
      "Epoch 6/20\n",
      "217/217 [==============================] - 9s 43ms/step - loss: 0.3341 - mean_squared_error: 0.3341 - val_loss: 0.5749 - val_mean_squared_error: 0.5749\n",
      "Epoch 7/20\n",
      "217/217 [==============================] - 10s 44ms/step - loss: 0.2983 - mean_squared_error: 0.2983 - val_loss: 0.4991 - val_mean_squared_error: 0.4991\n",
      "Epoch 8/20\n",
      "217/217 [==============================] - 9s 42ms/step - loss: 0.2820 - mean_squared_error: 0.2820 - val_loss: 0.4908 - val_mean_squared_error: 0.4908\n",
      "Epoch 9/20\n",
      "217/217 [==============================] - 9s 42ms/step - loss: 0.2598 - mean_squared_error: 0.2598 - val_loss: 0.4984 - val_mean_squared_error: 0.4984\n",
      "Epoch 10/20\n",
      "217/217 [==============================] - 9s 42ms/step - loss: 0.2472 - mean_squared_error: 0.2472 - val_loss: 0.4911 - val_mean_squared_error: 0.4911\n",
      "Epoch 11/20\n",
      "217/217 [==============================] - 9s 42ms/step - loss: 0.2352 - mean_squared_error: 0.2352 - val_loss: 0.5231 - val_mean_squared_error: 0.5231\n",
      "Epoch 12/20\n",
      "217/217 [==============================] - 9s 41ms/step - loss: 0.2186 - mean_squared_error: 0.2186 - val_loss: 0.4883 - val_mean_squared_error: 0.4883\n",
      "Epoch 13/20\n",
      "169/217 [======================>.......] - ETA: 1s - loss: 0.2116 - mean_squared_error: 0.2116"
     ]
    }
   ],
   "source": [
    "model_cnn=model()\n",
    "model_cnn.compile(loss='mean_squared_error', optimizer='adam', metrics=['mean_squared_error'])\n",
    "model_cnn.summary()\n",
    "\n",
    "# Train the model\n",
    "history_cnn = model_cnn.fit(X, Y, epochs=20, batch_size=64, validation_split=0.2)"
   ]
  },
  {
   "cell_type": "code",
   "execution_count": null,
   "id": "091e4c2c",
   "metadata": {},
   "outputs": [],
   "source": [
    "# Evaluation with Quadratic Weighted Kappa\n",
    "\n",
    "from sklearn.metrics import cohen_kappa_score\n",
    "import numpy as np\n",
    "\n",
    "# Predict using the trained model\n",
    "y_pred_cnn = model_cnn.predict(X_test).flatten()\n",
    "y_pred_cnn = np.rint(y_pred_cnn)  # Round predictions to nearest integer\n",
    "\n",
    "# Calculate Quadratic Weighted Kappa\n",
    "kappa_score_cnn = cohen_kappa_score(y_test, y_pred_cnn, weights='quadratic')\n",
    "print(f'Quadratic Weighted Kappa (CNN): {kappa_score_cnn}')"
   ]
  },
  {
   "cell_type": "code",
   "execution_count": null,
   "id": "24488403",
   "metadata": {
    "scrolled": true
   },
   "outputs": [],
   "source": [
    "# Visualization of Training History\n",
    "\n",
    "plt.figure(figsize=(12, 6))\n",
    "plt.plot(history_cnn.history['loss'], label='MSE')\n",
    "plt.plot(history_cnn.history['val_loss'], label='Val MSE')\n",
    "plt.title('Model Loss')\n",
    "plt.xlabel('Epoch')\n",
    "plt.ylabel('Loss')\n",
    "plt.legend()\n",
    "plt.savefig('../Images/CNN Loss.png')\n",
    "plt.show()"
   ]
  }
 ],
 "metadata": {
  "kernelspec": {
   "display_name": "Python [conda env:fdgsfdg] *",
   "language": "python",
   "name": "conda-env-fdgsfdg-py"
  },
  "language_info": {
   "codemirror_mode": {
    "name": "ipython",
    "version": 3
   },
   "file_extension": ".py",
   "mimetype": "text/x-python",
   "name": "python",
   "nbconvert_exporter": "python",
   "pygments_lexer": "ipython3",
   "version": "3.9.20"
  }
 },
 "nbformat": 4,
 "nbformat_minor": 5
}
